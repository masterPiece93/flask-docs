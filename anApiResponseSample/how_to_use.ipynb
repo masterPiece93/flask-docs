{
 "cells": [
  {
   "cell_type": "markdown",
   "metadata": {},
   "source": [
    "# JsonApiResponse\n",
    "\n",
    "This is a utility , for Flask Api's , to form desirable responses."
   ]
  },
  {
   "cell_type": "markdown",
   "metadata": {},
   "source": [
    "### How to use in code :\n"
   ]
  },
  {
   "cell_type": "markdown",
   "metadata": {},
   "source": [
    "Import & Instantiate the JsonApiResponse where needed"
   ]
  },
  {
   "cell_type": "code",
   "execution_count": null,
   "metadata": {},
   "outputs": [],
   "source": [
    "# api.py\n",
    "\n",
    "from response import JsonApiResponse\n",
    "\n",
    "def api_controller(request_obj, **path_params):\n",
    "    response = JsonApiResponse()\n",
    "\n",
    "    # ... API logic ...\n",
    "\n",
    "    response.http_status_code = 400\n",
    "    response.message = \"some readable text\"\n",
    "    response.code = \"SOME_SECRET_CLIENT_DEFINED_CODE\"\n",
    "    response.data = [\n",
    "        {\n",
    "            \"key\": \"value\"\n",
    "        },\n",
    "        {\n",
    "            \"key\": \"value\"\n",
    "        },\n",
    "        {\n",
    "            \"key\": \"value\"\n",
    "        },\n",
    "    ]\n",
    "\n",
    "    return response"
   ]
  },
  {
   "cell_type": "markdown",
   "metadata": {},
   "source": [
    "### Now, in the main code, we can process this response :"
   ]
  },
  {
   "cell_type": "code",
   "execution_count": null,
   "metadata": {},
   "outputs": [],
   "source": [
    "from flask import Flask, request\n",
    "\n",
    "app = Flask(__name__)\n",
    "\n",
    "def pagination_logic(request, response):\n",
    "    page = response.page\n",
    "    page.current = 1\n",
    "    page.next = 2\n",
    "    page.total = ...\n",
    "    page.link.next = request.baseurl + '?page=2 && page_size=15'\n",
    "\n",
    "\n",
    "@app.route('/test-api/<path_param_1>/', methods=['GET','PUT', 'POST'])\n",
    "def api_name(path_param_1: str):\n",
    "    response = api_controller(request)\n",
    "    pagination_logic(request, response)\n",
    "    return response.make(paginated=True)\n",
    "    \n",
    "if __name__ == '__main__':\n",
    "    app.run()\n"
   ]
  }
 ],
 "metadata": {
  "language_info": {
   "name": "python"
  },
  "orig_nbformat": 4
 },
 "nbformat": 4,
 "nbformat_minor": 2
}
